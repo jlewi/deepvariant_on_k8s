{
 "cells": [
  {
   "cell_type": "markdown",
   "metadata": {},
   "source": [
    "# Deepvariant\n",
    "\n",
    "Notebook for running DeepVariant training on K8s\n",
    "\n",
    "This is a work in progress\n",
    "\n",
    "This notebook assumes you have followed the README in order to setup your cluster"
   ]
  },
  {
   "cell_type": "code",
   "execution_count": 92,
   "metadata": {},
   "outputs": [],
   "source": [
    "# Set some variables\n",
    "# The bucket on GCS where data is stored.\n",
    "import os\n",
    "import yaml\n",
    "BUCKET=\"cloud-ml-dev_jlewi_deep_variant\"\n",
    "# Where the NFS share is mounted\n",
    "NFS_MOUNT_POINT=\"/home/jovyan/deepvariant-pd/\"\n",
    "# The directory within the NFS share where data is stored\n",
    "DATA_DIR = \"deepvariant/data\"\n",
    "# The local directory where the DATA can be found.\n",
    "LOCAL_DATA_DIR=os.path.join(NFS_MOUNT_POINT, DATA_DIR)\n",
    "\n",
    "PROJECT=\"cloud-ml-dev\"\n",
    "CLUSTER=\"gke-tf-example\"\n",
    "ZONE=\"us-east1-d\""
   ]
  },
  {
   "cell_type": "markdown",
   "metadata": {},
   "source": [
    "## Setup"
   ]
  },
  {
   "cell_type": "markdown",
   "metadata": {},
   "source": [
    "### Setup Helm"
   ]
  },
  {
   "cell_type": "code",
   "execution_count": 57,
   "metadata": {},
   "outputs": [
    {
     "name": "stdout",
     "output_type": "stream",
     "text": [
      "--2017-12-10 01:24:13--  https://storage.googleapis.com/kubernetes-helm/helm-v2.7.2-linux-amd64.tar.gz\r\n",
      "Resolving storage.googleapis.com (storage.googleapis.com)... 74.125.141.128, 2607:f8b0:400c:c06::80\r\n",
      "Connecting to storage.googleapis.com (storage.googleapis.com)|74.125.141.128|:443... connected.\r\n",
      "HTTP request sent, awaiting response... 200 OK\r\n",
      "Length: 12166338 (12M) [application/x-tar]\r\n",
      "Saving to: ‘/tmp/helm-v2.7.2-linux-amd64.tar.gz’\r\n",
      "\r\n",
      "\r",
      "          /tmp/helm   0%[                    ]       0  --.-KB/s               \r",
      "/tmp/helm-v2.7.2-li 100%[===================>]  11.60M  --.-KB/s    in 0.1s    \r\n",
      "\r\n",
      "2017-12-10 01:24:13 (88.3 MB/s) - ‘/tmp/helm-v2.7.2-linux-amd64.tar.gz’ saved [12166338/12166338]\r\n",
      "\r\n",
      "linux-amd64/\r\n",
      "linux-amd64/README.md\r\n",
      "linux-amd64/LICENSE\r\n",
      "linux-amd64/helm\r\n"
     ]
    }
   ],
   "source": [
    "# Setup helm\n",
    "# TODO(jlewi): I should build a Docker image with everything we need.\n",
    "!wget -O /tmp/helm-v2.7.2-linux-amd64.tar.gz https://storage.googleapis.com/kubernetes-helm/helm-v2.7.2-linux-amd64.tar.gz\n",
    "!tar -C /tmp -xvf /tmp/helm-v2.7.2-linux-amd64.tar.gz\n",
    "!mv /tmp/linux-amd64/helm ~/"
   ]
  },
  {
   "cell_type": "markdown",
   "metadata": {},
   "source": [
    "### Configure Kubectl\n"
   ]
  },
  {
   "cell_type": "code",
   "execution_count": 60,
   "metadata": {},
   "outputs": [
    {
     "name": "stdout",
     "output_type": "stream",
     "text": [
      "Fetching cluster endpoint and auth data.\r\n",
      "kubeconfig entry generated for gke-tf-example.\r\n"
     ]
    }
   ],
   "source": [
    "!gcloud --project={PROJECT} container clusters get-credentials --zone={ZONE} {CLUSTER}"
   ]
  },
  {
   "cell_type": "markdown",
   "metadata": {},
   "source": [
    "## Copy Data onto NFS share\n",
    "\n",
    "* The data is most likely stored on GCS\n",
    "* We need to copy it to NFS makes make_examples can't read/write from NFS"
   ]
  },
  {
   "cell_type": "code",
   "execution_count": 82,
   "metadata": {
    "collapsed": false
   },
   "outputs": [
    {
     "name": "stdout",
     "output_type": "stream",
     "text": [
      "Copying gs://cloud-ml-dev_jlewi_deep_variant/reference/GRCh38_Verily_v1.genome.fa.fai...\r\n",
      "/ [0 files][    0.0 B/120.3 KiB]                                                \r",
      "/ [1 files][120.3 KiB/120.3 KiB]                                                \r",
      "\r\n",
      "Operation completed over 1 objects/120.3 KiB.                                    \r\n"
     ]
    }
   ],
   "source": [
    "# Copy the reference genome from gcs to our NFS share\n",
    "!mkdir -p {NFS_DIR}/reference\n",
    "!gsutil cp gs://{BUCKET}/reference/GRCh38_Verily_v1.genome.fa {LOCAL_DATA_DIR}/reference\n",
    "!gsutil cp gs://{BUCKET}/reference/GRCh38_Verily_v1.genome.fa.fai {LOCAL_DATA_DIR}/reference"
   ]
  },
  {
   "cell_type": "code",
   "execution_count": 84,
   "metadata": {
    "collapsed": false
   },
   "outputs": [
    {
     "name": "stdout",
     "output_type": "stream",
     "text": [
      "Copying gs://verily-analysis-precision-fda/FAKE_FLOWCELL/GRCh38/HG001-NA12878-pFDA/chr20/realigned.bai...\r\n",
      "/ [0 files][    0.0 B/211.8 KiB]                                                \r",
      "/ [1 files][211.8 KiB/211.8 KiB]                                                \r",
      "\r\n",
      "Operation completed over 1 objects/211.8 KiB.                                    \r\n"
     ]
    }
   ],
   "source": [
    "!mkdir -p {LOCAL_DATA_DIR}/FAKE_FLOWCELL/GRCh38/HG001-NA12878-pFDA/chr20/\n",
    "#!gsutil cp gs://verily-analysis-precision-fda/FAKE_FLOWCELL/GRCh38/HG001-NA12878-pFDA/chr20/realigned.bam {LOCAL_DATA_DIR}/FAKE_FLOWCELL/GRCh38/HG001-NA12878-pFDA/chr20/\n",
    "!gsutil cp gs://verily-analysis-precision-fda/FAKE_FLOWCELL/GRCh38/HG001-NA12878-pFDA/chr20/realigned.bai {LOCAL_DATA_DIR}/FAKE_FLOWCELL/GRCh38/HG001-NA12878-pFDA/chr20/"
   ]
  },
  {
   "cell_type": "code",
   "execution_count": 22,
   "metadata": {
    "collapsed": false
   },
   "outputs": [
    {
     "name": "stdout",
     "output_type": "stream",
     "text": [
      "gs://verily-analysis-precision-fda/FAKE_FLOWCELL/GRCh38/HG001-NA12878-pFDA/chr20/base_recalibration.table\r\n",
      "gs://verily-analysis-precision-fda/FAKE_FLOWCELL/GRCh38/HG001-NA12878-pFDA/chr20/final.g.vcf\r\n",
      "gs://verily-analysis-precision-fda/FAKE_FLOWCELL/GRCh38/HG001-NA12878-pFDA/chr20/final.g.vcf.idx\r\n",
      "gs://verily-analysis-precision-fda/FAKE_FLOWCELL/GRCh38/HG001-NA12878-pFDA/chr20/realigned.bai\r\n",
      "gs://verily-analysis-precision-fda/FAKE_FLOWCELL/GRCh38/HG001-NA12878-pFDA/chr20/realigned.bam\r\n",
      "gs://verily-analysis-precision-fda/FAKE_FLOWCELL/GRCh38/HG001-NA12878-pFDA/chr20/realignment-targets.interval_list\r\n",
      "gs://verily-analysis-precision-fda/FAKE_FLOWCELL/GRCh38/HG001-NA12878-pFDA/chr20/recalibrated.bai\r\n",
      "gs://verily-analysis-precision-fda/FAKE_FLOWCELL/GRCh38/HG001-NA12878-pFDA/chr20/recalibrated.bam\r\n"
     ]
    }
   ],
   "source": [
    "!gsutil ls gs://verily-analysis-precision-fda/FAKE_FLOWCELL/GRCh38/HG001-NA12878-pFDA/chr20/"
   ]
  },
  {
   "cell_type": "code",
   "execution_count": 85,
   "metadata": {
    "collapsed": false
   },
   "outputs": [
    {
     "name": "stdout",
     "output_type": "stream",
     "text": [
      "/home/jovyan/deepvariant-pd/deepvariant/data\r\n",
      "/home/jovyan/deepvariant-pd/deepvariant/data/reference\r\n",
      "/home/jovyan/deepvariant-pd/deepvariant/data/reference/GRCh38_Verily_v1.genome.fa.fai\r\n",
      "/home/jovyan/deepvariant-pd/deepvariant/data/reference/GRCh38_Verily_v1.genome.fa\r\n",
      "/home/jovyan/deepvariant-pd/deepvariant/data/FAKE_FLOWCELL\r\n",
      "/home/jovyan/deepvariant-pd/deepvariant/data/FAKE_FLOWCELL/GRCh38\r\n",
      "/home/jovyan/deepvariant-pd/deepvariant/data/FAKE_FLOWCELL/GRCh38/HG001-NA12878-pFDA\r\n",
      "/home/jovyan/deepvariant-pd/deepvariant/data/FAKE_FLOWCELL/GRCh38/HG001-NA12878-pFDA/chr20\r\n",
      "/home/jovyan/deepvariant-pd/deepvariant/data/FAKE_FLOWCELL/GRCh38/HG001-NA12878-pFDA/chr20/realigned.bai\r\n",
      "/home/jovyan/deepvariant-pd/deepvariant/data/FAKE_FLOWCELL/GRCh38/HG001-NA12878-pFDA/chr20/realigned.bam\r\n"
     ]
    }
   ],
   "source": [
    "!find {LOCAL_DATA_DIR} -name \"*\""
   ]
  },
  {
   "cell_type": "markdown",
   "metadata": {},
   "source": [
    "## Run make examples\n",
    "\n",
    "* We use the helm chart to run make examples on the data.\n"
   ]
  },
  {
   "cell_type": "code",
   "execution_count": 97,
   "metadata": {},
   "outputs": [
    {
     "name": "stdout",
     "output_type": "stream",
     "text": [
      "Creating /home/jovyan/deepvariant-pd/deepvariant/data/test_output\n"
     ]
    }
   ],
   "source": [
    "import os\n",
    "import yaml\n",
    "\n",
    "# See https://stackoverflow.com/questions/21016220/is-it-possible-to-emit-valid-yaml-with-anchors-references-disabled-using-ruby\n",
    "class ExplicitDumper(yaml.SafeDumper):\n",
    "  \"\"\"A dumper that will never emit aliases.\"\"\"\n",
    "\n",
    "  def ignore_aliases(self, data):\n",
    "    return True\n",
    "\n",
    "# Create a config file that specifies the shards.\n",
    "# Mount_dir will be the directory in the pods where we mount the NFS share.\n",
    "# IT is set in the chart\n",
    "MOUNT_DIR = \"/mnt/biotensorflow\"\n",
    "config = {\n",
    "   \"reference\": os.path.join(MOUNT_DIR, DATA_DIR, \"reference/GRCh38_Verily_v1.genome.fa\"),\n",
    "    \"shards\": [\n",
    "        {\n",
    "             \"reads\": os.path.join(MOUNT_DIR, DATA_DIR, \"FAKE_FLOWCELL/GRCh38/HG001-NA12878-pFDA/chr20/realigned.bam\"),\n",
    "             \"examples\": os.path.join(MOUNT_DIR, DATA_DIR, \"test_output/chr20.tfrecord.20170815.gz\"),\n",
    "        },\n",
    "    ],\n",
    "}\n",
    "\n",
    "\n",
    "# make sure the directory for the output exists \n",
    "for s in config[\"shards\"]:\n",
    "    d = s[\"examples\"].lstrip(MOUNT_DIR)\n",
    "    base_dir = os.path.dirname(d)\n",
    "    local_output_dir = os.path.join(NFS_MOUNT_POINT, base_dir)\n",
    "    if not os.path.exists(local_output_dir):\n",
    "        print(\"Creating %s\" % local_output_dir)\n",
    "        os.makedirs(local_output_dir)\n",
    "    \n",
    "CONFIG_FILE=\"/tmp/make_examples_config.yaml\"\n",
    "\n",
    "config_yaml = yaml.dump(config, Dumper=ExplicitDumper, default_flow_style=False)\n",
    "\n",
    "with open(CONFIG_FILE, \"w\") as hf:\n",
    "    hf.write(config_yaml)"
   ]
  },
  {
   "cell_type": "code",
   "execution_count": 96,
   "metadata": {},
   "outputs": [
    {
     "data": {
      "text/plain": [
       "'/home/jovyan/deepvariant-pd/deepvariant/data/deepvariant/data/test_output'"
      ]
     },
     "execution_count": 96,
     "metadata": {},
     "output_type": "execute_result"
    }
   ],
   "source": [
    "local_output_dir"
   ]
  },
  {
   "cell_type": "code",
   "execution_count": 79,
   "metadata": {},
   "outputs": [
    {
     "name": "stdout",
     "output_type": "stream",
     "text": [
      "NAME:   make-test\r\n",
      "LAST DEPLOYED: Sun Dec 10 01:43:32 2017\r\n",
      "NAMESPACE: default\r\n",
      "STATUS: DEPLOYED\r\n",
      "\r\n",
      "RESOURCES:\r\n",
      "==> v1/Job\r\n",
      "NAME                    DESIRED  SUCCESSFUL  AGE\r\n",
      "make-examples-akw4fg-0  1        0           0s\r\n",
      "\r\n",
      "==> v1/Pod(related)\r\n",
      "NAME                          READY  STATUS             RESTARTS  AGE\r\n",
      "make-examples-akw4fg-0-k26mz  0/1    ContainerCreating  0         0s\r\n",
      "\r\n",
      "\r\n"
     ]
    }
   ],
   "source": [
    "!~/helm install --name=make-test ./charts/make-examples -f {CONFIG_FILE}"
   ]
  },
  {
   "cell_type": "code",
   "execution_count": 78,
   "metadata": {},
   "outputs": [
    {
     "name": "stdout",
     "output_type": "stream",
     "text": [
      "release \"make-test\" deleted\r\n"
     ]
    }
   ],
   "source": [
    "!~/helm delete --purge make-test"
   ]
  }
 ],
 "metadata": {
  "kernelspec": {
   "display_name": "Python 3",
   "language": "python",
   "name": "python3"
  },
  "language_info": {
   "codemirror_mode": {
    "name": "ipython",
    "version": 3
   },
   "file_extension": ".py",
   "mimetype": "text/x-python",
   "name": "python",
   "nbconvert_exporter": "python",
   "pygments_lexer": "ipython3",
   "version": "3.6.3"
  }
 },
 "nbformat": 4,
 "nbformat_minor": 2
}
