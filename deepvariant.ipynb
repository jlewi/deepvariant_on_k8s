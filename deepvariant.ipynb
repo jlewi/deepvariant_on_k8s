{
 "cells": [
  {
   "cell_type": "markdown",
   "metadata": {},
   "source": [
    "# Deepvariant\n",
    "\n",
    "Notebook for running DeepVariant training on K8s\n",
    "\n",
    "This is a work in progress\n",
    "\n",
    "This notebook assumes you have followed the README in order to setup your cluster"
   ]
  },
  {
   "cell_type": "code",
   "execution_count": 19,
   "metadata": {},
   "outputs": [],
   "source": [
    "# Set some variables\n",
    "# The bucket on GCS where data is stored.\n",
    "BUCKET=\"cloud-ml-dev_jlewi_deep_variant\"\n",
    "NFS_DIR=\"/home/jovyan/deepvariant_pd/deepvariant/data\""
   ]
  },
  {
   "cell_type": "markdown",
   "metadata": {},
   "source": [
    "## Copy Data onto NFS share\n",
    "\n",
    "* The data is most likely stored on GCS\n",
    "* We need to copy it to NFS makes make_examples can't read/write from NFS"
   ]
  },
  {
   "cell_type": "code",
   "execution_count": 20,
   "metadata": {
    "collapsed": false
   },
   "outputs": [
    {
     "name": "stdout",
     "output_type": "stream",
     "text": [
      "Copying gs://cloud-ml-dev_jlewi_deep_variant/reference/GRCh38_Verily_v1.genome.fa...\r\n",
      "/ [0 files][    0.0 B/  2.9 GiB]                                                \r",
      "-\r",
      "- [0 files][ 48.7 MiB/  2.9 GiB]                                                \r",
      "\\\r",
      "|\r",
      "| [0 files][136.6 MiB/  2.9 GiB]                                                \r",
      "/\r",
      "/ [0 files][225.8 MiB/  2.9 GiB]                                                \r",
      "-\r",
      "\\\r",
      "\\ [0 files][314.0 MiB/  2.9 GiB]                                                \r",
      "|\r",
      "/\r",
      "/ [0 files][403.5 MiB/  2.9 GiB]                                                \r",
      "-\r",
      "- [0 files][491.9 MiB/  2.9 GiB]                                                \r",
      "\\\r",
      "|\r",
      "| [0 files][580.6 MiB/  2.9 GiB]                                                \r",
      "/\r",
      "-\r",
      "- [0 files][670.3 MiB/  2.9 GiB]                                                \r",
      "\\\r",
      "\\ [0 files][760.6 MiB/  2.9 GiB]                                                \r",
      "|\r",
      "/\r",
      "/ [0 files][849.5 MiB/  2.9 GiB]                                                \r",
      "-\r",
      "\\\r",
      "\\ [0 files][936.6 MiB/  2.9 GiB]   88.8 MiB/s                                   \r",
      "|\r",
      "| [0 files][  1.0 GiB/  2.9 GiB]   89.1 MiB/s                                   \r",
      "/\r",
      "-\r",
      "- [0 files][  1.1 GiB/  2.9 GiB]   89.3 MiB/s                                   \r",
      "\\\r",
      "|\r",
      "| [0 files][  1.2 GiB/  2.9 GiB]   89.3 MiB/s                                   \r",
      "/\r",
      "/ [0 files][  1.3 GiB/  2.9 GiB]   89.2 MiB/s                                   \r",
      "-\r",
      "\\\r",
      "\\ [0 files][  1.4 GiB/  2.9 GiB]   89.8 MiB/s                                   \r",
      "|\r",
      "/\r",
      "/ [0 files][  1.4 GiB/  2.9 GiB]   89.6 MiB/s                                   \r",
      "-\r",
      "- [0 files][  1.5 GiB/  2.9 GiB]   89.0 MiB/s                                   \r",
      "\\\r",
      "|\r",
      "| [0 files][  1.6 GiB/  2.9 GiB]   89.0 MiB/s                                   \r",
      "/\r",
      "-\r",
      "- [0 files][  1.7 GiB/  2.9 GiB]   89.2 MiB/s                                   \r",
      "\\\r",
      "\\ [0 files][  1.8 GiB/  2.9 GiB]   88.7 MiB/s                                   \r",
      "|\r",
      "/\r",
      "/ [0 files][  1.9 GiB/  2.9 GiB]   89.1 MiB/s                                   \r",
      "-\r",
      "\\\r",
      "\\ [0 files][  2.0 GiB/  2.9 GiB]   89.7 MiB/s                                   \r",
      "|\r",
      "| [0 files][  2.1 GiB/  2.9 GiB]   89.6 MiB/s                                   \r",
      "/\r",
      "-\r",
      "- [0 files][  2.1 GiB/  2.9 GiB]   90.1 MiB/s                                   \r",
      "\\\r",
      "|\r",
      "| [0 files][  2.2 GiB/  2.9 GiB]   92.0 MiB/s                                   \r",
      "/\r",
      "/ [0 files][  2.3 GiB/  2.9 GiB]   93.2 MiB/s                                   \r",
      "-\r",
      "\\\r",
      "\\ [0 files][  2.4 GiB/  2.9 GiB]   93.1 MiB/s                                   \r",
      "|\r",
      "/\r",
      "/ [0 files][  2.5 GiB/  2.9 GiB]   93.0 MiB/s                                   \r",
      "-\r",
      "- [0 files][  2.6 GiB/  2.9 GiB]   92.3 MiB/s                                   \r",
      "\\\r",
      "|\r",
      "| [0 files][  2.7 GiB/  2.9 GiB]   91.2 MiB/s                                   \r",
      "/\r",
      "-\r",
      "- [0 files][  2.8 GiB/  2.9 GiB]   90.0 MiB/s                                   \r",
      "\\\r",
      "\\ [0 files][  2.9 GiB/  2.9 GiB]   93.2 MiB/s                                   \r",
      "|\r",
      "| [1 files][  2.9 GiB/  2.9 GiB]   95.5 MiB/s                                   \r",
      "\r\n",
      "Operation completed over 1 objects/2.9 GiB.                                      \r\n",
      "Copying gs://cloud-ml-dev_jlewi_deep_variant/reference/GRCh38_Verily_v1.genome.fa.fai...\r\n",
      "/ [0 files][    0.0 B/120.3 KiB]                                                \r",
      "/ [1 files][120.3 KiB/120.3 KiB]                                                \r",
      "\r\n",
      "Operation completed over 1 objects/120.3 KiB.                                    \r\n"
     ]
    }
   ],
   "source": [
    "# Copy the reference genome from gcs to our NFS share\n",
    "#print(BUCKET)\n",
    "#!echo {BUCKET}\n",
    "!mkdir -p {NFS_DIR}/reference\n",
    "!gsutil cp gs://{BUCKET}/reference/GRCh38_Verily_v1.genome.fa {NFS_DIR}/reference\n",
    "!gsutil cp gs://{BUCKET}/reference/GRCh38_Verily_v1.genome.fa.fai {NFS_DIR}/reference"
   ]
  },
  {
   "cell_type": "code",
   "execution_count": 21,
   "metadata": {
    "collapsed": false
   },
   "outputs": [
    {
     "name": "stdout",
     "output_type": "stream",
     "text": [
      "Copying gs://verily-analysis-precision-fda/FAKE_FLOWCELL/GRCh38/HG001-NA12878-pFDA/chr20/realigned.bam...\r\n",
      "/ [0 files][    0.0 B/  2.4 GiB]                                                \r",
      "-\r",
      "- [0 files][ 21.9 MiB/  2.4 GiB]                                                \r",
      "\\\r",
      "|\r",
      "| [0 files][131.0 MiB/  2.4 GiB]                                                \r",
      "/\r",
      "-\r",
      "- [0 files][233.1 MiB/  2.4 GiB]                                                \r",
      "\\\r",
      "\\ [0 files][334.6 MiB/  2.4 GiB]                                                \r",
      "|\r",
      "/\r",
      "/ [0 files][437.3 MiB/  2.4 GiB]                                                \r",
      "-\r",
      "\\\r",
      "\\ [0 files][539.3 MiB/  2.4 GiB]                                                \r",
      "|\r",
      "| [0 files][639.9 MiB/  2.4 GiB]                                                \r",
      "/\r",
      "-\r",
      "- [0 files][731.4 MiB/  2.4 GiB]                                                \r",
      "\\\r",
      "|\r",
      "| [0 files][821.7 MiB/  2.4 GiB]                                                \r",
      "/\r",
      "/ [0 files][910.9 MiB/  2.4 GiB]                                                \r",
      "-\r",
      "\\\r",
      "\\ [0 files][ 1001 MiB/  2.4 GiB]   92.3 MiB/s                                   \r",
      "|\r",
      "/\r",
      "/ [0 files][  1.1 GiB/  2.4 GiB]   90.3 MiB/s                                   \r",
      "-\r",
      "- [0 files][  1.2 GiB/  2.4 GiB]   90.1 MiB/s                                   \r",
      "\\\r",
      "|\r",
      "| [0 files][  1.2 GiB/  2.4 GiB]   90.1 MiB/s                                   \r",
      "/\r",
      "-\r",
      "- [0 files][  1.3 GiB/  2.4 GiB]   90.6 MiB/s                                   \r",
      "\\\r",
      "\\ [0 files][  1.4 GiB/  2.4 GiB]   90.4 MiB/s                                   \r",
      "|\r",
      "/\r",
      "/ [0 files][  1.5 GiB/  2.4 GiB]   90.7 MiB/s                                   \r",
      "-\r",
      "\\\r",
      "\\ [0 files][  1.6 GiB/  2.4 GiB]   90.6 MiB/s                                   \r",
      "|\r",
      "| [0 files][  1.7 GiB/  2.4 GiB]   90.6 MiB/s                                   \r",
      "/\r",
      "-\r",
      "- [0 files][  1.8 GiB/  2.4 GiB]   90.6 MiB/s                                   \r",
      "\\\r",
      "\\ [0 files][  1.9 GiB/  2.4 GiB]   90.5 MiB/s                                   \r",
      "|\r",
      "/\r",
      "/ [0 files][  2.0 GiB/  2.4 GiB]   90.0 MiB/s                                   \r",
      "-\r",
      "\\\r",
      "\\ [0 files][  2.0 GiB/  2.4 GiB]   90.9 MiB/s                                   \r",
      "|\r",
      "| [0 files][  2.1 GiB/  2.4 GiB]   91.6 MiB/s                                   \r",
      "/\r",
      "-\r",
      "- [0 files][  2.2 GiB/  2.4 GiB]   91.6 MiB/s                                   \r",
      "\\\r",
      "|\r",
      "| [0 files][  2.3 GiB/  2.4 GiB]   92.9 MiB/s                                   \r",
      "/\r",
      "/ [0 files][  2.4 GiB/  2.4 GiB]   96.0 MiB/s                                   \r",
      "-\r",
      "- [1 files][  2.4 GiB/  2.4 GiB]   96.2 MiB/s                                   \r",
      "\r\n",
      "Operation completed over 1 objects/2.4 GiB.                                      \r\n"
     ]
    }
   ],
   "source": [
    "!mkdir -p {NFS_DIR}//FAKE_FLOWCELL/GRCh38/HG001-NA12878-pFDA/chr20/\n",
    "!gsutil cp gs://verily-analysis-precision-fda/FAKE_FLOWCELL/GRCh38/HG001-NA12878-pFDA/chr20/realigned.bam {NFS_DIR}/FAKE_FLOWCELL/GRCh38/HG001-NA12878-pFDA/chr20/"
   ]
  },
  {
   "cell_type": "code",
   "execution_count": 22,
   "metadata": {
    "collapsed": false
   },
   "outputs": [
    {
     "name": "stdout",
     "output_type": "stream",
     "text": [
      "gs://verily-analysis-precision-fda/FAKE_FLOWCELL/GRCh38/HG001-NA12878-pFDA/chr20/base_recalibration.table\r\n",
      "gs://verily-analysis-precision-fda/FAKE_FLOWCELL/GRCh38/HG001-NA12878-pFDA/chr20/final.g.vcf\r\n",
      "gs://verily-analysis-precision-fda/FAKE_FLOWCELL/GRCh38/HG001-NA12878-pFDA/chr20/final.g.vcf.idx\r\n",
      "gs://verily-analysis-precision-fda/FAKE_FLOWCELL/GRCh38/HG001-NA12878-pFDA/chr20/realigned.bai\r\n",
      "gs://verily-analysis-precision-fda/FAKE_FLOWCELL/GRCh38/HG001-NA12878-pFDA/chr20/realigned.bam\r\n",
      "gs://verily-analysis-precision-fda/FAKE_FLOWCELL/GRCh38/HG001-NA12878-pFDA/chr20/realignment-targets.interval_list\r\n",
      "gs://verily-analysis-precision-fda/FAKE_FLOWCELL/GRCh38/HG001-NA12878-pFDA/chr20/recalibrated.bai\r\n",
      "gs://verily-analysis-precision-fda/FAKE_FLOWCELL/GRCh38/HG001-NA12878-pFDA/chr20/recalibrated.bam\r\n"
     ]
    }
   ],
   "source": [
    "!gsutil ls gs://verily-analysis-precision-fda/FAKE_FLOWCELL/GRCh38/HG001-NA12878-pFDA/chr20/"
   ]
  },
  {
   "cell_type": "code",
   "execution_count": 23,
   "metadata": {
    "collapsed": false
   },
   "outputs": [
    {
     "name": "stdout",
     "output_type": "stream",
     "text": [
      "/home/jovyan/deepvariant_pd/deepvariant/data\r\n",
      "/home/jovyan/deepvariant_pd/deepvariant/data/FAKE_FLOWCELL\r\n",
      "/home/jovyan/deepvariant_pd/deepvariant/data/FAKE_FLOWCELL/GRCh38\r\n",
      "/home/jovyan/deepvariant_pd/deepvariant/data/FAKE_FLOWCELL/GRCh38/HG001-NA12878-pFDA\r\n",
      "/home/jovyan/deepvariant_pd/deepvariant/data/FAKE_FLOWCELL/GRCh38/HG001-NA12878-pFDA/chr20\r\n",
      "/home/jovyan/deepvariant_pd/deepvariant/data/FAKE_FLOWCELL/GRCh38/HG001-NA12878-pFDA/chr20/realigned.bam\r\n",
      "/home/jovyan/deepvariant_pd/deepvariant/data/reference\r\n",
      "/home/jovyan/deepvariant_pd/deepvariant/data/reference/GRCh38_Verily_v1.genome.fa\r\n",
      "/home/jovyan/deepvariant_pd/deepvariant/data/reference/GRCh38_Verily_v1.genome.fa.fai\r\n"
     ]
    }
   ],
   "source": [
    "!find {NFS_DIR} -name \"*\""
   ]
  },
  {
   "cell_type": "code",
   "execution_count": null,
   "metadata": {
    "collapsed": false
   },
   "outputs": [],
   "source": [
    "!ls -la /content/biotensorflow/test_output"
   ]
  }
 ],
 "metadata": {
  "kernelspec": {
   "display_name": "Python 3",
   "language": "python",
   "name": "python3"
  },
  "language_info": {
   "codemirror_mode": {
    "name": "ipython",
    "version": 3
   },
   "file_extension": ".py",
   "mimetype": "text/x-python",
   "name": "python",
   "nbconvert_exporter": "python",
   "pygments_lexer": "ipython3",
   "version": "3.6.3"
  }
 },
 "nbformat": 4,
 "nbformat_minor": 2
}
